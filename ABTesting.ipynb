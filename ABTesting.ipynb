{
 "cells": [
  {
   "cell_type": "markdown",
   "id": "7e1704be",
   "metadata": {},
   "source": [
    "# 1. Project Background\n",
    "\n",
    "Perusahaan pemasaran ingin menjalankan kampanye yang sukses, namun pasarnya kompleks dan dengan pilihan kampanye yang tepat, mereka dapat menghasilkan kampanye yang sukses. Jadi mereka biasanya  melakukan pengujian A/B. Kebanyakan orang akan dihadapkan pada iklan (kelompok uji). Dan sejumlah kecil orang (kelompok kontrol) akan melihat iklan layanan masyarakat (PSA) dengan ukuran dan lokasi yang sama dengan iklan tersebut."
   ]
  },
  {
   "cell_type": "markdown",
   "id": "f053343e",
   "metadata": {},
   "source": [
    "# 2. Project Stages"
   ]
  },
  {
   "cell_type": "markdown",
   "id": "357153e8",
   "metadata": {},
   "source": [
    "## Tujuan dari experimental :\n",
    "\n",
    "- Menentukan sebuah ads campaign apakah berpengaruh secara signifikan terhadap penjualan atau tidak."
   ]
  },
  {
   "cell_type": "markdown",
   "id": "163ad234",
   "metadata": {},
   "source": [
    "## Metrics yang digunakan :\n",
    "\n",
    "- Conversoin rate\n"
   ]
  },
  {
   "cell_type": "markdown",
   "id": "4ddc47e2",
   "metadata": {},
   "source": [
    "## Define variants\n",
    "\n",
    "- Control: Public Service Announcements (psa)\n",
    "- Treatment: ads with more striking colors (ad)"
   ]
  },
  {
   "cell_type": "markdown",
   "id": "7edcd77a",
   "metadata": {},
   "source": [
    "## Define Hypothesis\n",
    "\n",
    "- H0: tidak terdapat perbedaan yang signifikan dari implementasi ads terhadap conversion rate  \n",
    "- H1: terdapat perbedaan yang signifikan antara grup control dan treatment akibat dari implementasi ads"
   ]
  },
  {
   "cell_type": "markdown",
   "id": "2b85ff98",
   "metadata": {},
   "source": [
    "# 3. Designing Experiments"
   ]
  },
  {
   "cell_type": "markdown",
   "id": "61fc281b",
   "metadata": {},
   "source": [
    "##### 1. Randomization Unit\n",
    "- UserID, karena merupakan unique value.\n",
    "\n",
    "##### 2. Target of randomization unit\n",
    "- Pengguna secara acak\n",
    "\n",
    "##### 3. Sample Size\n",
    "- Significant level: Tingkat signifikansi pada uji hipotesis, secara atau yang sering digunakan adalah 5% atau 0.05.\n",
    "- Power Level: Probabilitas utk menolak hipotesis H0. Pada eksperimen kali ini menggunakan 0.08.\n",
    "- Std of Population: Std pada populasi pada eksperimen kali ini adalah 0.07.\n",
    "- Difference between control and treatment: Perusahaan telah melakukan rapat utk menentukan nilai Difference between control and treatment, yaitu sebesar 1%."
   ]
  },
  {
   "cell_type": "markdown",
   "id": "1d54d0fd",
   "metadata": {},
   "source": [
    "# 4. Running Experiment and Obtaining Data"
   ]
  },
  {
   "cell_type": "code",
   "execution_count": 256,
   "id": "825693c6",
   "metadata": {},
   "outputs": [],
   "source": [
    "import pandas as pd\n",
    "import matplotlib.pyplot as plt\n",
    "import seaborn as sns\n",
    "import math\n",
    "import scipy.stats as stats\n",
    "import numpy as np"
   ]
  },
  {
   "cell_type": "code",
   "execution_count": 257,
   "id": "ffed28f0",
   "metadata": {},
   "outputs": [
    {
     "data": {
      "text/html": [
       "<div>\n",
       "<style scoped>\n",
       "    .dataframe tbody tr th:only-of-type {\n",
       "        vertical-align: middle;\n",
       "    }\n",
       "\n",
       "    .dataframe tbody tr th {\n",
       "        vertical-align: top;\n",
       "    }\n",
       "\n",
       "    .dataframe thead th {\n",
       "        text-align: right;\n",
       "    }\n",
       "</style>\n",
       "<table border=\"1\" class=\"dataframe\">\n",
       "  <thead>\n",
       "    <tr style=\"text-align: right;\">\n",
       "      <th></th>\n",
       "      <th>user id</th>\n",
       "      <th>test group</th>\n",
       "      <th>converted</th>\n",
       "      <th>total ads</th>\n",
       "      <th>most ads day</th>\n",
       "      <th>most ads hour</th>\n",
       "    </tr>\n",
       "  </thead>\n",
       "  <tbody>\n",
       "    <tr>\n",
       "      <th>0</th>\n",
       "      <td>1069124</td>\n",
       "      <td>ad</td>\n",
       "      <td>False</td>\n",
       "      <td>130</td>\n",
       "      <td>Monday</td>\n",
       "      <td>20</td>\n",
       "    </tr>\n",
       "    <tr>\n",
       "      <th>1</th>\n",
       "      <td>1119715</td>\n",
       "      <td>ad</td>\n",
       "      <td>False</td>\n",
       "      <td>93</td>\n",
       "      <td>Tuesday</td>\n",
       "      <td>22</td>\n",
       "    </tr>\n",
       "    <tr>\n",
       "      <th>2</th>\n",
       "      <td>1144181</td>\n",
       "      <td>ad</td>\n",
       "      <td>False</td>\n",
       "      <td>21</td>\n",
       "      <td>Tuesday</td>\n",
       "      <td>18</td>\n",
       "    </tr>\n",
       "    <tr>\n",
       "      <th>3</th>\n",
       "      <td>1435133</td>\n",
       "      <td>ad</td>\n",
       "      <td>False</td>\n",
       "      <td>355</td>\n",
       "      <td>Tuesday</td>\n",
       "      <td>10</td>\n",
       "    </tr>\n",
       "    <tr>\n",
       "      <th>4</th>\n",
       "      <td>1015700</td>\n",
       "      <td>ad</td>\n",
       "      <td>False</td>\n",
       "      <td>276</td>\n",
       "      <td>Friday</td>\n",
       "      <td>14</td>\n",
       "    </tr>\n",
       "    <tr>\n",
       "      <th>...</th>\n",
       "      <td>...</td>\n",
       "      <td>...</td>\n",
       "      <td>...</td>\n",
       "      <td>...</td>\n",
       "      <td>...</td>\n",
       "      <td>...</td>\n",
       "    </tr>\n",
       "    <tr>\n",
       "      <th>588096</th>\n",
       "      <td>1278437</td>\n",
       "      <td>ad</td>\n",
       "      <td>False</td>\n",
       "      <td>1</td>\n",
       "      <td>Tuesday</td>\n",
       "      <td>23</td>\n",
       "    </tr>\n",
       "    <tr>\n",
       "      <th>588097</th>\n",
       "      <td>1327975</td>\n",
       "      <td>ad</td>\n",
       "      <td>False</td>\n",
       "      <td>1</td>\n",
       "      <td>Tuesday</td>\n",
       "      <td>23</td>\n",
       "    </tr>\n",
       "    <tr>\n",
       "      <th>588098</th>\n",
       "      <td>1038442</td>\n",
       "      <td>ad</td>\n",
       "      <td>False</td>\n",
       "      <td>3</td>\n",
       "      <td>Tuesday</td>\n",
       "      <td>23</td>\n",
       "    </tr>\n",
       "    <tr>\n",
       "      <th>588099</th>\n",
       "      <td>1496395</td>\n",
       "      <td>ad</td>\n",
       "      <td>False</td>\n",
       "      <td>1</td>\n",
       "      <td>Tuesday</td>\n",
       "      <td>23</td>\n",
       "    </tr>\n",
       "    <tr>\n",
       "      <th>588100</th>\n",
       "      <td>1237779</td>\n",
       "      <td>ad</td>\n",
       "      <td>False</td>\n",
       "      <td>1</td>\n",
       "      <td>Tuesday</td>\n",
       "      <td>23</td>\n",
       "    </tr>\n",
       "  </tbody>\n",
       "</table>\n",
       "<p>588101 rows × 6 columns</p>\n",
       "</div>"
      ],
      "text/plain": [
       "        user id test group  converted  total ads most ads day  most ads hour\n",
       "0       1069124         ad      False        130       Monday             20\n",
       "1       1119715         ad      False         93      Tuesday             22\n",
       "2       1144181         ad      False         21      Tuesday             18\n",
       "3       1435133         ad      False        355      Tuesday             10\n",
       "4       1015700         ad      False        276       Friday             14\n",
       "...         ...        ...        ...        ...          ...            ...\n",
       "588096  1278437         ad      False          1      Tuesday             23\n",
       "588097  1327975         ad      False          1      Tuesday             23\n",
       "588098  1038442         ad      False          3      Tuesday             23\n",
       "588099  1496395         ad      False          1      Tuesday             23\n",
       "588100  1237779         ad      False          1      Tuesday             23\n",
       "\n",
       "[588101 rows x 6 columns]"
      ]
     },
     "execution_count": 257,
     "metadata": {},
     "output_type": "execute_result"
    }
   ],
   "source": [
    "df = pd.read_csv(\"marketing_AB.csv\", index_col=0)\n",
    "df"
   ]
  },
  {
   "cell_type": "markdown",
   "id": "b234c3e2",
   "metadata": {},
   "source": [
    "# 5. Analyzing & Interpreting Data"
   ]
  },
  {
   "cell_type": "markdown",
   "id": "82115179",
   "metadata": {},
   "source": [
    "rename kolom yang memiliki spasi antar katanya"
   ]
  },
  {
   "cell_type": "code",
   "execution_count": 258,
   "id": "c471579e",
   "metadata": {},
   "outputs": [
    {
     "data": {
      "text/html": [
       "<div>\n",
       "<style scoped>\n",
       "    .dataframe tbody tr th:only-of-type {\n",
       "        vertical-align: middle;\n",
       "    }\n",
       "\n",
       "    .dataframe tbody tr th {\n",
       "        vertical-align: top;\n",
       "    }\n",
       "\n",
       "    .dataframe thead th {\n",
       "        text-align: right;\n",
       "    }\n",
       "</style>\n",
       "<table border=\"1\" class=\"dataframe\">\n",
       "  <thead>\n",
       "    <tr style=\"text-align: right;\">\n",
       "      <th></th>\n",
       "      <th>user_id</th>\n",
       "      <th>test_group</th>\n",
       "      <th>converted</th>\n",
       "      <th>total_ads</th>\n",
       "      <th>most_ads_day</th>\n",
       "      <th>most_ads_hour</th>\n",
       "    </tr>\n",
       "  </thead>\n",
       "  <tbody>\n",
       "    <tr>\n",
       "      <th>0</th>\n",
       "      <td>1069124</td>\n",
       "      <td>ad</td>\n",
       "      <td>False</td>\n",
       "      <td>130</td>\n",
       "      <td>Monday</td>\n",
       "      <td>20</td>\n",
       "    </tr>\n",
       "    <tr>\n",
       "      <th>1</th>\n",
       "      <td>1119715</td>\n",
       "      <td>ad</td>\n",
       "      <td>False</td>\n",
       "      <td>93</td>\n",
       "      <td>Tuesday</td>\n",
       "      <td>22</td>\n",
       "    </tr>\n",
       "    <tr>\n",
       "      <th>2</th>\n",
       "      <td>1144181</td>\n",
       "      <td>ad</td>\n",
       "      <td>False</td>\n",
       "      <td>21</td>\n",
       "      <td>Tuesday</td>\n",
       "      <td>18</td>\n",
       "    </tr>\n",
       "    <tr>\n",
       "      <th>3</th>\n",
       "      <td>1435133</td>\n",
       "      <td>ad</td>\n",
       "      <td>False</td>\n",
       "      <td>355</td>\n",
       "      <td>Tuesday</td>\n",
       "      <td>10</td>\n",
       "    </tr>\n",
       "    <tr>\n",
       "      <th>4</th>\n",
       "      <td>1015700</td>\n",
       "      <td>ad</td>\n",
       "      <td>False</td>\n",
       "      <td>276</td>\n",
       "      <td>Friday</td>\n",
       "      <td>14</td>\n",
       "    </tr>\n",
       "    <tr>\n",
       "      <th>...</th>\n",
       "      <td>...</td>\n",
       "      <td>...</td>\n",
       "      <td>...</td>\n",
       "      <td>...</td>\n",
       "      <td>...</td>\n",
       "      <td>...</td>\n",
       "    </tr>\n",
       "    <tr>\n",
       "      <th>588096</th>\n",
       "      <td>1278437</td>\n",
       "      <td>ad</td>\n",
       "      <td>False</td>\n",
       "      <td>1</td>\n",
       "      <td>Tuesday</td>\n",
       "      <td>23</td>\n",
       "    </tr>\n",
       "    <tr>\n",
       "      <th>588097</th>\n",
       "      <td>1327975</td>\n",
       "      <td>ad</td>\n",
       "      <td>False</td>\n",
       "      <td>1</td>\n",
       "      <td>Tuesday</td>\n",
       "      <td>23</td>\n",
       "    </tr>\n",
       "    <tr>\n",
       "      <th>588098</th>\n",
       "      <td>1038442</td>\n",
       "      <td>ad</td>\n",
       "      <td>False</td>\n",
       "      <td>3</td>\n",
       "      <td>Tuesday</td>\n",
       "      <td>23</td>\n",
       "    </tr>\n",
       "    <tr>\n",
       "      <th>588099</th>\n",
       "      <td>1496395</td>\n",
       "      <td>ad</td>\n",
       "      <td>False</td>\n",
       "      <td>1</td>\n",
       "      <td>Tuesday</td>\n",
       "      <td>23</td>\n",
       "    </tr>\n",
       "    <tr>\n",
       "      <th>588100</th>\n",
       "      <td>1237779</td>\n",
       "      <td>ad</td>\n",
       "      <td>False</td>\n",
       "      <td>1</td>\n",
       "      <td>Tuesday</td>\n",
       "      <td>23</td>\n",
       "    </tr>\n",
       "  </tbody>\n",
       "</table>\n",
       "<p>588101 rows × 6 columns</p>\n",
       "</div>"
      ],
      "text/plain": [
       "        user_id test_group  converted  total_ads most_ads_day  most_ads_hour\n",
       "0       1069124         ad      False        130       Monday             20\n",
       "1       1119715         ad      False         93      Tuesday             22\n",
       "2       1144181         ad      False         21      Tuesday             18\n",
       "3       1435133         ad      False        355      Tuesday             10\n",
       "4       1015700         ad      False        276       Friday             14\n",
       "...         ...        ...        ...        ...          ...            ...\n",
       "588096  1278437         ad      False          1      Tuesday             23\n",
       "588097  1327975         ad      False          1      Tuesday             23\n",
       "588098  1038442         ad      False          3      Tuesday             23\n",
       "588099  1496395         ad      False          1      Tuesday             23\n",
       "588100  1237779         ad      False          1      Tuesday             23\n",
       "\n",
       "[588101 rows x 6 columns]"
      ]
     },
     "execution_count": 258,
     "metadata": {},
     "output_type": "execute_result"
    }
   ],
   "source": [
    "new_col = {\n",
    "    'user id': 'user_id',\n",
    "    'test group': 'test_group',\n",
    "    'total ads': 'total_ads',\n",
    "    'most ads day': 'most_ads_day',\n",
    "    'most ads hour': 'most_ads_hour'\n",
    "}\n",
    "\n",
    "df = df.rename(columns=new_col)\n",
    "df"
   ]
  },
  {
   "cell_type": "markdown",
   "id": "fc8ff611",
   "metadata": {},
   "source": [
    "Mendapat infomasi mengenai dataset"
   ]
  },
  {
   "cell_type": "code",
   "execution_count": 259,
   "id": "2f173f2e",
   "metadata": {},
   "outputs": [
    {
     "name": "stdout",
     "output_type": "stream",
     "text": [
      "<class 'pandas.core.frame.DataFrame'>\n",
      "Index: 588101 entries, 0 to 588100\n",
      "Data columns (total 6 columns):\n",
      " #   Column         Non-Null Count   Dtype \n",
      "---  ------         --------------   ----- \n",
      " 0   user_id        588101 non-null  int64 \n",
      " 1   test_group     588101 non-null  object\n",
      " 2   converted      588101 non-null  bool  \n",
      " 3   total_ads      588101 non-null  int64 \n",
      " 4   most_ads_day   588101 non-null  object\n",
      " 5   most_ads_hour  588101 non-null  int64 \n",
      "dtypes: bool(1), int64(3), object(2)\n",
      "memory usage: 27.5+ MB\n"
     ]
    }
   ],
   "source": [
    "df.info()"
   ]
  },
  {
   "cell_type": "markdown",
   "id": "9fe6298c",
   "metadata": {},
   "source": [
    "Melihat statistik deskriptif dari data"
   ]
  },
  {
   "cell_type": "code",
   "execution_count": 260,
   "id": "80dabc7c",
   "metadata": {},
   "outputs": [
    {
     "data": {
      "text/html": [
       "<div>\n",
       "<style scoped>\n",
       "    .dataframe tbody tr th:only-of-type {\n",
       "        vertical-align: middle;\n",
       "    }\n",
       "\n",
       "    .dataframe tbody tr th {\n",
       "        vertical-align: top;\n",
       "    }\n",
       "\n",
       "    .dataframe thead th {\n",
       "        text-align: right;\n",
       "    }\n",
       "</style>\n",
       "<table border=\"1\" class=\"dataframe\">\n",
       "  <thead>\n",
       "    <tr style=\"text-align: right;\">\n",
       "      <th></th>\n",
       "      <th>user_id</th>\n",
       "      <th>test_group</th>\n",
       "      <th>converted</th>\n",
       "      <th>total_ads</th>\n",
       "      <th>most_ads_day</th>\n",
       "      <th>most_ads_hour</th>\n",
       "    </tr>\n",
       "  </thead>\n",
       "  <tbody>\n",
       "    <tr>\n",
       "      <th>count</th>\n",
       "      <td>5.881010e+05</td>\n",
       "      <td>588101</td>\n",
       "      <td>588101</td>\n",
       "      <td>588101.000000</td>\n",
       "      <td>588101</td>\n",
       "      <td>588101.000000</td>\n",
       "    </tr>\n",
       "    <tr>\n",
       "      <th>unique</th>\n",
       "      <td>NaN</td>\n",
       "      <td>2</td>\n",
       "      <td>2</td>\n",
       "      <td>NaN</td>\n",
       "      <td>7</td>\n",
       "      <td>NaN</td>\n",
       "    </tr>\n",
       "    <tr>\n",
       "      <th>top</th>\n",
       "      <td>NaN</td>\n",
       "      <td>ad</td>\n",
       "      <td>False</td>\n",
       "      <td>NaN</td>\n",
       "      <td>Friday</td>\n",
       "      <td>NaN</td>\n",
       "    </tr>\n",
       "    <tr>\n",
       "      <th>freq</th>\n",
       "      <td>NaN</td>\n",
       "      <td>564577</td>\n",
       "      <td>573258</td>\n",
       "      <td>NaN</td>\n",
       "      <td>92608</td>\n",
       "      <td>NaN</td>\n",
       "    </tr>\n",
       "    <tr>\n",
       "      <th>mean</th>\n",
       "      <td>1.310692e+06</td>\n",
       "      <td>NaN</td>\n",
       "      <td>NaN</td>\n",
       "      <td>24.820876</td>\n",
       "      <td>NaN</td>\n",
       "      <td>14.469061</td>\n",
       "    </tr>\n",
       "    <tr>\n",
       "      <th>std</th>\n",
       "      <td>2.022260e+05</td>\n",
       "      <td>NaN</td>\n",
       "      <td>NaN</td>\n",
       "      <td>43.715181</td>\n",
       "      <td>NaN</td>\n",
       "      <td>4.834634</td>\n",
       "    </tr>\n",
       "    <tr>\n",
       "      <th>min</th>\n",
       "      <td>9.000000e+05</td>\n",
       "      <td>NaN</td>\n",
       "      <td>NaN</td>\n",
       "      <td>1.000000</td>\n",
       "      <td>NaN</td>\n",
       "      <td>0.000000</td>\n",
       "    </tr>\n",
       "    <tr>\n",
       "      <th>25%</th>\n",
       "      <td>1.143190e+06</td>\n",
       "      <td>NaN</td>\n",
       "      <td>NaN</td>\n",
       "      <td>4.000000</td>\n",
       "      <td>NaN</td>\n",
       "      <td>11.000000</td>\n",
       "    </tr>\n",
       "    <tr>\n",
       "      <th>50%</th>\n",
       "      <td>1.313725e+06</td>\n",
       "      <td>NaN</td>\n",
       "      <td>NaN</td>\n",
       "      <td>13.000000</td>\n",
       "      <td>NaN</td>\n",
       "      <td>14.000000</td>\n",
       "    </tr>\n",
       "    <tr>\n",
       "      <th>75%</th>\n",
       "      <td>1.484088e+06</td>\n",
       "      <td>NaN</td>\n",
       "      <td>NaN</td>\n",
       "      <td>27.000000</td>\n",
       "      <td>NaN</td>\n",
       "      <td>18.000000</td>\n",
       "    </tr>\n",
       "    <tr>\n",
       "      <th>max</th>\n",
       "      <td>1.654483e+06</td>\n",
       "      <td>NaN</td>\n",
       "      <td>NaN</td>\n",
       "      <td>2065.000000</td>\n",
       "      <td>NaN</td>\n",
       "      <td>23.000000</td>\n",
       "    </tr>\n",
       "  </tbody>\n",
       "</table>\n",
       "</div>"
      ],
      "text/plain": [
       "             user_id test_group converted      total_ads most_ads_day  \\\n",
       "count   5.881010e+05     588101    588101  588101.000000       588101   \n",
       "unique           NaN          2         2            NaN            7   \n",
       "top              NaN         ad     False            NaN       Friday   \n",
       "freq             NaN     564577    573258            NaN        92608   \n",
       "mean    1.310692e+06        NaN       NaN      24.820876          NaN   \n",
       "std     2.022260e+05        NaN       NaN      43.715181          NaN   \n",
       "min     9.000000e+05        NaN       NaN       1.000000          NaN   \n",
       "25%     1.143190e+06        NaN       NaN       4.000000          NaN   \n",
       "50%     1.313725e+06        NaN       NaN      13.000000          NaN   \n",
       "75%     1.484088e+06        NaN       NaN      27.000000          NaN   \n",
       "max     1.654483e+06        NaN       NaN    2065.000000          NaN   \n",
       "\n",
       "        most_ads_hour  \n",
       "count   588101.000000  \n",
       "unique            NaN  \n",
       "top               NaN  \n",
       "freq              NaN  \n",
       "mean        14.469061  \n",
       "std          4.834634  \n",
       "min          0.000000  \n",
       "25%         11.000000  \n",
       "50%         14.000000  \n",
       "75%         18.000000  \n",
       "max         23.000000  "
      ]
     },
     "execution_count": 260,
     "metadata": {},
     "output_type": "execute_result"
    }
   ],
   "source": [
    "df.describe(include='all')"
   ]
  },
  {
   "cell_type": "code",
   "execution_count": 261,
   "id": "1a89542f",
   "metadata": {},
   "outputs": [
    {
     "name": "stdout",
     "output_type": "stream",
     "text": [
      "test_group\n",
      "ad     564577\n",
      "psa     23524\n",
      "Name: count, dtype: int64\n"
     ]
    }
   ],
   "source": [
    "print(df[\"test_group\"].value_counts())"
   ]
  },
  {
   "cell_type": "markdown",
   "id": "871c21a6",
   "metadata": {},
   "source": [
    "Dari visualisasi dibawah ini terdapat perbedaan yang cukup signifikan antara jumlah grup control dan treatment"
   ]
  },
  {
   "cell_type": "code",
   "execution_count": 262,
   "id": "5d696baf",
   "metadata": {},
   "outputs": [
    {
     "data": {
      "image/png": "[encoded data removed]",
      "text/plain": [
       "<Figure size 640x480 with 1 Axes>"
      ]
     },
     "metadata": {},
     "output_type": "display_data"
    }
   ],
   "source": [
    "ax = df[\"test_group\"].value_counts().plot(kind=\"pie\", colormap=\"Set3\")\n",
    "ax.set_title('Views of Different Marketing Campaigns Pie Chart')\n",
    "plt.show()"
   ]
  },
  {
   "cell_type": "code",
   "execution_count": 263,
   "id": "076f88bb",
   "metadata": {},
   "outputs": [],
   "source": [
    "alpha = 0.05\n",
    "power_level = 0.8\n",
    "standard_deviation = 0.07\n",
    "delta = 0.01"
   ]
  },
  {
   "cell_type": "code",
   "execution_count": 264,
   "id": "72fefcec",
   "metadata": {},
   "outputs": [],
   "source": [
    "def sample_size_calculator(alpha, power_level, standard_deviation, delta):\n",
    "\n",
    "    beta = 1 - power_level\n",
    "\n",
    "    z_alpha = stats.norm.ppf(1 - alpha/2)\n",
    "    z_beta = stats.norm.ppf(1 - beta)\n",
    "\n",
    "    n = (2 * (z_alpha + z_beta)**2 * standard_deviation**2) / delta**2\n",
    "\n",
    "    return int(n)\n"
   ]
  },
  {
   "cell_type": "code",
   "execution_count": 265,
   "id": "5d6b9e70",
   "metadata": {},
   "outputs": [
    {
     "data": {
      "text/plain": [
       "769"
      ]
     },
     "execution_count": 265,
     "metadata": {},
     "output_type": "execute_result"
    }
   ],
   "source": [
    "sampe_size = sample_size_calculator(alpha, power_level, standard_deviation, delta)\n",
    "sampe_size"
   ]
  },
  {
   "cell_type": "code",
   "execution_count": 266,
   "id": "06260154",
   "metadata": {},
   "outputs": [
    {
     "data": {
      "text/plain": [
       "(769, 769)"
      ]
     },
     "execution_count": 266,
     "metadata": {},
     "output_type": "execute_result"
    }
   ],
   "source": [
    "data_control = df[df['test_group'] == 'psa'].sample(sampe_size)\n",
    "data_treatment = df[df['test_group'] == 'ad'].sample(sampe_size)\n",
    "\n",
    "len(data_control), len(data_treatment)"
   ]
  },
  {
   "cell_type": "code",
   "execution_count": 267,
   "id": "7b066502",
   "metadata": {},
   "outputs": [
    {
     "data": {
      "text/html": [
       "<div>\n",
       "<style scoped>\n",
       "    .dataframe tbody tr th:only-of-type {\n",
       "        vertical-align: middle;\n",
       "    }\n",
       "\n",
       "    .dataframe tbody tr th {\n",
       "        vertical-align: top;\n",
       "    }\n",
       "\n",
       "    .dataframe thead th {\n",
       "        text-align: right;\n",
       "    }\n",
       "</style>\n",
       "<table border=\"1\" class=\"dataframe\">\n",
       "  <thead>\n",
       "    <tr style=\"text-align: right;\">\n",
       "      <th></th>\n",
       "      <th>user_id</th>\n",
       "      <th>test_group</th>\n",
       "      <th>converted</th>\n",
       "      <th>total_ads</th>\n",
       "      <th>most_ads_day</th>\n",
       "      <th>most_ads_hour</th>\n",
       "    </tr>\n",
       "  </thead>\n",
       "  <tbody>\n",
       "    <tr>\n",
       "      <th>329661</th>\n",
       "      <td>911149</td>\n",
       "      <td>psa</td>\n",
       "      <td>False</td>\n",
       "      <td>1</td>\n",
       "      <td>Wednesday</td>\n",
       "      <td>18</td>\n",
       "    </tr>\n",
       "    <tr>\n",
       "      <th>86022</th>\n",
       "      <td>913083</td>\n",
       "      <td>psa</td>\n",
       "      <td>False</td>\n",
       "      <td>9</td>\n",
       "      <td>Monday</td>\n",
       "      <td>11</td>\n",
       "    </tr>\n",
       "    <tr>\n",
       "      <th>552937</th>\n",
       "      <td>904874</td>\n",
       "      <td>psa</td>\n",
       "      <td>False</td>\n",
       "      <td>2</td>\n",
       "      <td>Tuesday</td>\n",
       "      <td>14</td>\n",
       "    </tr>\n",
       "    <tr>\n",
       "      <th>216416</th>\n",
       "      <td>907729</td>\n",
       "      <td>psa</td>\n",
       "      <td>False</td>\n",
       "      <td>16</td>\n",
       "      <td>Thursday</td>\n",
       "      <td>11</td>\n",
       "    </tr>\n",
       "    <tr>\n",
       "      <th>55664</th>\n",
       "      <td>909732</td>\n",
       "      <td>psa</td>\n",
       "      <td>False</td>\n",
       "      <td>71</td>\n",
       "      <td>Monday</td>\n",
       "      <td>16</td>\n",
       "    </tr>\n",
       "  </tbody>\n",
       "</table>\n",
       "</div>"
      ],
      "text/plain": [
       "        user_id test_group  converted  total_ads most_ads_day  most_ads_hour\n",
       "329661   911149        psa      False          1    Wednesday             18\n",
       "86022    913083        psa      False          9       Monday             11\n",
       "552937   904874        psa      False          2      Tuesday             14\n",
       "216416   907729        psa      False         16     Thursday             11\n",
       "55664    909732        psa      False         71       Monday             16"
      ]
     },
     "execution_count": 267,
     "metadata": {},
     "output_type": "execute_result"
    }
   ],
   "source": [
    "data = pd.concat([data_control, data_treatment])\n",
    "data.head()"
   ]
  },
  {
   "cell_type": "code",
   "execution_count": 268,
   "id": "248b8ca8",
   "metadata": {},
   "outputs": [
    {
     "name": "stdout",
     "output_type": "stream",
     "text": [
      "test_group\n",
      "psa    769\n",
      "ad     769\n",
      "Name: count, dtype: int64\n"
     ]
    }
   ],
   "source": [
    "print(data['test_group'].value_counts())"
   ]
  },
  {
   "cell_type": "markdown",
   "id": "30bcdd3c",
   "metadata": {},
   "source": [
    "Cek ada tidaknya data yang kosong"
   ]
  },
  {
   "cell_type": "code",
   "execution_count": 269,
   "id": "f7353f44",
   "metadata": {},
   "outputs": [
    {
     "data": {
      "text/plain": [
       "user_id          0\n",
       "test_group       0\n",
       "converted        0\n",
       "total_ads        0\n",
       "most_ads_day     0\n",
       "most_ads_hour    0\n",
       "dtype: int64"
      ]
     },
     "execution_count": 269,
     "metadata": {},
     "output_type": "execute_result"
    }
   ],
   "source": [
    "data.isna().sum()"
   ]
  },
  {
   "cell_type": "markdown",
   "id": "2b6cfd56",
   "metadata": {},
   "source": [
    "Cek ada tidaknya data yang duplikat"
   ]
  },
  {
   "cell_type": "code",
   "execution_count": 270,
   "id": "c6efd003",
   "metadata": {},
   "outputs": [
    {
     "data": {
      "text/plain": [
       "0"
      ]
     },
     "execution_count": 270,
     "metadata": {},
     "output_type": "execute_result"
    }
   ],
   "source": [
    "data.duplicated().sum()"
   ]
  },
  {
   "cell_type": "code",
   "execution_count": 271,
   "id": "5e3dc2f2",
   "metadata": {},
   "outputs": [
    {
     "data": {
      "image/png": "[encoded data removed]",
      "text/plain": [
       "<Figure size 640x480 with 1 Axes>"
      ]
     },
     "metadata": {},
     "output_type": "display_data"
    }
   ],
   "source": [
    "# Kolom \"total ads\"\n",
    "plt.hist(data[\"total_ads\"], bins=100, color=\"blue\", alpha=0.5, label=\"Total Ads\")\n",
    "\n",
    "# Kolom \"most ads hour\"\n",
    "plt.hist(data[\"most_ads_hour\"], bins=24, color=\"red\", alpha=0.5, label=\"Most Ads Hour\")\n",
    "\n",
    "# Menambahkan label sumbu x dan y, serta judul\n",
    "plt.xlabel(\"Value\")\n",
    "plt.ylabel(\"Frequency\")\n",
    "plt.title(\"Distribution of Total Ads and Most Ads Hour\")\n",
    "\n",
    "# Menambahkan legenda\n",
    "plt.legend()\n",
    "\n",
    "# Menampilkan histogram\n",
    "plt.show()"
   ]
  },
  {
   "cell_type": "code",
   "execution_count": 272,
   "id": "b9a5cb20",
   "metadata": {},
   "outputs": [
    {
     "name": "stdout",
     "output_type": "stream",
     "text": [
      "jumlah user yang converted pada group control adalah sebanyak 19 user id\n",
      "jumlah user yang converted pada group treatment adalah sebanyak 30 user id\n"
     ]
    }
   ],
   "source": [
    "n_user_control = data[data[\"test_group\"] == \"psa\"][\"user_id\"].nunique()\n",
    "n_user_treatment = data[data[\"test_group\"] == \"ad\"][\"user_id\"].nunique()\n",
    "# 769\n",
    "\n",
    "n_converted_control = data[(data[\"test_group\"] == \"psa\") & (data[\"converted\"] == True)].shape[0]\n",
    "n_converted_treatment = data[(data[\"test_group\"] == \"ad\") & (data[\"converted\"] == True)].shape[0]\n",
    "\n",
    "print(f\"jumlah user yang converted pada group control adalah sebanyak {n_converted_control} user id\")\n",
    "print(f\"jumlah user yang converted pada group treatment adalah sebanyak {n_converted_treatment} user id\")\n"
   ]
  },
  {
   "cell_type": "code",
   "execution_count": 273,
   "id": "f72862d9",
   "metadata": {},
   "outputs": [
    {
     "name": "stdout",
     "output_type": "stream",
     "text": [
      "Total pengguna: 1538\n",
      "Observed: [769, 769]\n",
      "Expected: [769, 769]\n"
     ]
    }
   ],
   "source": [
    "# Menghitung total jumlah pengguna yang terlibat\n",
    "total_user_impacted = n_user_control + n_user_treatment\n",
    "\n",
    "# Menghitung nilai observed dan expected\n",
    "observed = [n_user_control, n_user_treatment]\n",
    "expected = [int(total_user_impacted / 2), int(total_user_impacted / 2)]\n",
    "\n",
    "# Menampilkan hasil perhitungan\n",
    "print(f\"Total pengguna: {total_user_impacted}\")\n",
    "print(f\"Observed: {observed}\")\n",
    "print(f\"Expected: {expected}\")"
   ]
  },
  {
   "cell_type": "code",
   "execution_count": 274,
   "id": "78b40659",
   "metadata": {},
   "outputs": [
    {
     "name": "stdout",
     "output_type": "stream",
     "text": [
      "Convert rate utk control: 0.0247074122236671\n",
      "Convert rate utk treatment: 0.03901170351105332\n"
     ]
    }
   ],
   "source": [
    "cr_control = n_converted_control / n_user_control\n",
    "cr_treatment = n_converted_treatment / n_user_treatment\n",
    "\n",
    "print(f'Convert rate utk control: {cr_control}')\n",
    "print(f'Convert rate utk treatment: {cr_treatment}')"
   ]
  },
  {
   "cell_type": "code",
   "execution_count": 275,
   "id": "62a1faa6",
   "metadata": {},
   "outputs": [],
   "source": [
    "diff = cr_treatment - cr_control"
   ]
  },
  {
   "cell_type": "markdown",
   "id": "08fe6934",
   "metadata": {},
   "source": [
    "#### Barchart utk melihat perbandingan conversion rate antara control dan treatment"
   ]
  },
  {
   "cell_type": "code",
   "execution_count": 276,
   "id": "1f342628",
   "metadata": {},
   "outputs": [
    {
     "data": {
      "text/plain": [
       "<Axes: >"
      ]
     },
     "execution_count": 276,
     "metadata": {},
     "output_type": "execute_result"
    },
    {
     "data": {
      "image/png": "[encoded data removed]",
      "text/plain": [
       "<Figure size 640x480 with 1 Axes>"
      ]
     },
     "metadata": {},
     "output_type": "display_data"
    }
   ],
   "source": [
    "sns.barplot(x=['control','treatment'],y=[cr_control*100,cr_treatment*100])"
   ]
  },
  {
   "cell_type": "code",
   "execution_count": 277,
   "id": "6dd89610",
   "metadata": {},
   "outputs": [],
   "source": [
    "sample_size = 769"
   ]
  },
  {
   "cell_type": "code",
   "execution_count": 278,
   "id": "22c0d810",
   "metadata": {},
   "outputs": [
    {
     "data": {
      "text/plain": [
       "2.555338409284554"
      ]
     },
     "execution_count": 278,
     "metadata": {},
     "output_type": "execute_result"
    }
   ],
   "source": [
    "z_score = diff/np.sqrt((cr_control*(1-cr_control))/sample_size)\n",
    "z_score"
   ]
  },
  {
   "cell_type": "code",
   "execution_count": 279,
   "id": "5fb879ea",
   "metadata": {},
   "outputs": [
    {
     "data": {
      "text/plain": [
       "1.6448536269514722"
      ]
     },
     "execution_count": 279,
     "metadata": {},
     "output_type": "execute_result"
    }
   ],
   "source": [
    "z_crit = stats.norm.ppf(1-alpha)\n",
    "z_crit"
   ]
  },
  {
   "cell_type": "code",
   "execution_count": 280,
   "id": "330cdeb6",
   "metadata": {},
   "outputs": [
    {
     "data": {
      "text/plain": [
       "0.005304230228361795"
      ]
     },
     "execution_count": 280,
     "metadata": {},
     "output_type": "execute_result"
    }
   ],
   "source": [
    "p_value = 1-stats.norm.cdf(z_score)\n",
    "p_value"
   ]
  },
  {
   "cell_type": "code",
   "execution_count": 281,
   "id": "80dcfb51",
   "metadata": {},
   "outputs": [
    {
     "data": {
      "image/png": "[encoded data removed]",
      "text/plain": [
       "<Figure size 800x600 with 1 Axes>"
      ]
     },
     "metadata": {},
     "output_type": "display_data"
    }
   ],
   "source": [
    "fig, ax = plt.subplots(nrows=1, ncols=1, figsize=(8, 6))\n",
    "mean = 0\n",
    "std = 1\n",
    "\n",
    "x = np.linspace(-5, 5, 500)\n",
    "\n",
    "y = (1 / (std * np.sqrt(2 * np.pi))) * np.exp(-(x - mean)**2 / (2 * std**2))\n",
    "\n",
    "sns.lineplot(x=x, y=y)\n",
    "\n",
    "\n",
    "# Add a vertical line z_score\n",
    "plt.axvline(x=z_score, color='red', linestyle='--')\n",
    "# Add label to the vertical line z_score\n",
    "label = f'z_score {z_score:.2f}'\n",
    "plt.text(z_score, 0.1, label, va='bottom', ha='center', color='red')\n",
    "\n",
    "#add a vertical line z_crit\n",
    "plt.axvline(x=z_crit, color='green', linestyle='-')\n",
    "# Add label to the vertical line z_crit\n",
    "label = f'z_crit {z_crit:.2f}'\n",
    "plt.text(z_crit, 0.3, label, va='bottom', ha='center', color='green')\n",
    "\n",
    "filt_idx_r=[idx for idx, value in enumerate(x) if value>=z_crit]\n",
    "plt.fill_between(x[filt_idx_r], y[filt_idx_r],color ='lightblue')\n",
    "\n",
    "\n",
    "plt.title('Normal Distribution')\n",
    "plt.xlabel('Values')\n",
    "plt.ylabel('Density')\n",
    "plt.xticks(np.arange(-5, 6, 1))\n",
    "\n",
    "plt.show()"
   ]
  },
  {
   "cell_type": "code",
   "execution_count": 282,
   "id": "fc4f0f86",
   "metadata": {},
   "outputs": [
    {
     "name": "stdout",
     "output_type": "stream",
     "text": [
      "p-value: 0.01\n",
      "reject null hypothesis, treatment are greater than the control\n"
     ]
    }
   ],
   "source": [
    "print(f'p-value: {p_value:.2f}')\n",
    "if p_value < alpha:\n",
    "    print(\"reject null hypothesis, treatment are greater than the control\")\n",
    "else:\n",
    "    print(\"accept h0, the difference is not significant\")"
   ]
  },
  {
   "cell_type": "markdown",
   "id": "abce0eea",
   "metadata": {},
   "source": [
    "# 6. Conclusion & Recomendation"
   ]
  },
  {
   "cell_type": "markdown",
   "id": "0dcc9bb7",
   "metadata": {},
   "source": [
    "- Pada uji hipotesisi, terlihat bahwa adanya perbedaan yang terlihat antara grup treatment dan grup control, sehingga iklan diterima dengan baik oleh sebagian pelanggan pada kelompok treatment."
   ]
  }
 ],
 "metadata": {
  "kernelspec": {
   "display_name": "Python 3 (ipykernel)",
   "language": "python",
   "name": "python3"
  },
  "language_info": {
   "codemirror_mode": {
    "name": "ipython",
    "version": 3
   },
   "file_extension": ".py",
   "mimetype": "text/x-python",
   "name": "python",
   "nbconvert_exporter": "python",
   "pygments_lexer": "ipython3",
   "version": "3.10.10"
  }
 },
 "nbformat": 4,
 "nbformat_minor": 5
}
